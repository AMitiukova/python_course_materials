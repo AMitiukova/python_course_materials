{
 "cells": [
  {
   "cell_type": "markdown",
   "id": "ef43214b",
   "metadata": {},
   "source": [
    "# 0. Наибольший общий делитель - 1 балл\n",
    "Напишите функцию, которая на вход принимает два целых числа, а на выходе отдает их наибольших общий делитель. \n",
    "\n",
    "Пример\n",
    "\n",
    "Ввод \n",
    "\n",
    "`lcd(10,2)`\n",
    "\n",
    "Вывод\n",
    "\n",
    "`2`\n",
    "\n",
    "Пример\n",
    "\n",
    "Ввод \n",
    "\n",
    "`lcd(10,25)`\n",
    "\n",
    "Вывод\n",
    "\n",
    "`5`"
   ]
  },
  {
   "cell_type": "code",
   "execution_count": 24,
   "id": "d227561c",
   "metadata": {},
   "outputs": [
    {
     "data": {
      "text/plain": [
       "10"
      ]
     },
     "execution_count": 24,
     "metadata": {},
     "output_type": "execute_result"
    }
   ],
   "source": [
    "#a, b = int(input()), int(input())\n",
    "def lcd(a,b):\n",
    "    lcd = 0\n",
    "    for i in range(1, min(a,b)+1):\n",
    "        if a%i == 0 and b%i == 0:\n",
    "            lcd = i \n",
    "            i=+1\n",
    "    return lcd\n",
    "lcd(20,30)"
   ]
  },
  {
   "cell_type": "markdown",
   "id": "777171f3",
   "metadata": {},
   "source": [
    "# 1. Задачка про перевод из `camel_case`'a в `snake_case` - 1.5 балла\n",
    " Напишите функцию, которая на вход принимает строку, записанную в `CamelCase`, а переводит ее в `snake_case`.\n",
    " Подсказка: идите по строке циклом, обрабатывайте каждый символ, если символ заглавный, к обработанным ранее добавляйте нижнее подчеркивание и нынешний переводите в `lower case` \n",
    " \n",
    " Пример:\n",
    "\n",
    "**Вход**: `'camelCaseVar'`\n",
    "\n",
    "**Выход**: `'camel_сase_var'`"
   ]
  },
  {
   "cell_type": "code",
   "execution_count": 27,
   "id": "5e4c1ced",
   "metadata": {},
   "outputs": [
    {
     "data": {
      "text/plain": [
       "'camel_case_var'"
      ]
     },
     "execution_count": 27,
     "metadata": {},
     "output_type": "execute_result"
    }
   ],
   "source": [
    "#s = input()\n",
    "def snake(stringg):\n",
    "    a = ''\n",
    "    b = ''\n",
    "    for c in stringg:\n",
    "        if c in stringg.upper():\n",
    "            a = '_' + c.lower()\n",
    "            b += a\n",
    "        else:\n",
    "            b += c\n",
    "    return b\n",
    "snake('camelCaseVar')"
   ]
  },
  {
   "cell_type": "markdown",
   "id": "929847a2",
   "metadata": {},
   "source": [
    "# 2. Про Поросёнка Петра - 2 балла\n",
    "На плоскости в точке `(0,0)` стоит Поросёнок Пётр. Он умеет ходить налево, направо, вверх и вниз. Расстояние его прохода в какую-либо сторону измеряется в шагах. Когда он идет вправо, его первая координата увеличивается, когда влево - уменьшается. Когда он идет вверх, его вторая координата увеличивается, а когда вниз - уменьшается.\n",
    "С клавиатуры считывается число `N` - число ходов, которые сделает Пётр. После чего на каждом шаге спрашивается, сколько шагов и в какую сторону за этот ход Пётр сделает. Так происходит, пока Пётр не осуществит все N ходов.\n",
    "Программа должна вывести, сколько шагов Пётр должен был бы сделать, чтобы кратчайшим путем прибыть из свое начальной точки `(0,0)` в свою конечную точку. \n",
    "\n",
    "Напоминание: Пётр умеет ходить только вверх-вниз, и влево-вправо, но не по диагонали.\n",
    "\n",
    "Пример ввода:\n",
    "\n",
    "Введите N: `3`\n",
    "\n",
    "Ход 1: `Вверх 1`\n",
    "\n",
    "Ход 2: `Вниз 1`\n",
    "\n",
    "Ход 3: `Вверх 1`\n",
    "\n",
    "Пример вывода:\n",
    "`Пётр находится на расстоянии 1 от (0,0)`"
   ]
  },
  {
   "cell_type": "code",
   "execution_count": 68,
   "id": "b3231431",
   "metadata": {},
   "outputs": [
    {
     "name": "stdout",
     "output_type": "stream",
     "text": [
      "2\n",
      "Ход 1: Вниз 4\n",
      "Вниз 4\n",
      "Ход 2: Влево 3\n",
      "Влево 3\n",
      "-3 -4\n",
      "Пётр находится на расстоянии 7 шагов от (0,0)\n"
     ]
    }
   ],
   "source": [
    "N=int(input())\n",
    "x = 0\n",
    "y = 0\n",
    "for i in range(N):\n",
    "    move=input(f'Ход {i+1}: ')\n",
    "    dir,step=move.split() \n",
    "    print (dir,step)\n",
    "    if dir=='Вверх':\n",
    "            y=y+int(step)\n",
    "    elif dir=='Вниз':\n",
    "            y=y-int(step)\n",
    "    elif dir=='Вправо':\n",
    "            x=x+int(step)\n",
    "    elif dir=='Влево':\n",
    "            x=x-int(step)\n",
    "    else:\n",
    "            print('некорректная запись хода')\n",
    "    i=+1\n",
    "#print(x,y)    \n",
    "print (f'Пётр находится на расстоянии {abs(x)+abs(y)} шагов от (0,0)')\n"
   ]
  },
  {
   "cell_type": "markdown",
   "id": "818909ca",
   "metadata": {},
   "source": [
    "# 3. Sort the keys of the dictionary from a to z.  - 0.5 балла"
   ]
  },
  {
   "cell_type": "code",
   "execution_count": null,
   "id": "b81d45f3",
   "metadata": {},
   "outputs": [],
   "source": [
    "d_= {\"tiramisu\":5, \"chocolate\":2, \"pudding\":3, \"cheesecake\":4}"
   ]
  },
  {
   "cell_type": "code",
   "execution_count": 12,
   "id": "9ee322d7",
   "metadata": {},
   "outputs": [
    {
     "name": "stdout",
     "output_type": "stream",
     "text": [
      "{'cheesecake': 4, 'chocolate': 2, 'pudding': 3, 'tiramisu': 5}\n"
     ]
    }
   ],
   "source": [
    "d_= {\"tiramisu\":5, \"chocolate\":2, \"pudding\":3, \"cheesecake\":4}\n",
    "sorted_d_ = dict(sorted(d_.items()))\n",
    "print(sorted_d_)"
   ]
  },
  {
   "cell_type": "markdown",
   "id": "77275ebf",
   "metadata": {},
   "source": [
    "# 4. Compare three values, return true only if 2 or more values are equal - 0.5 балла"
   ]
  },
  {
   "cell_type": "code",
   "execution_count": 70,
   "id": "d0893272",
   "metadata": {},
   "outputs": [
    {
     "name": "stdout",
     "output_type": "stream",
     "text": [
      "2\n",
      "4\n",
      "2\n",
      "True\n"
     ]
    }
   ],
   "source": [
    "x, y, z = int(input()), int(input()), int(input())\n",
    "Flag = False\n",
    "if x == y or y == z or x == z:\n",
    "    Flag = True\n",
    "print(Flag)"
   ]
  },
  {
   "cell_type": "markdown",
   "id": "895340c0",
   "metadata": {},
   "source": [
    "# 5. Given a list with pairs, sort on the sum of pairs - 0.5 балла"
   ]
  },
  {
   "cell_type": "code",
   "execution_count": 42,
   "id": "7a8971e2",
   "metadata": {},
   "outputs": [
    {
     "name": "stdout",
     "output_type": "stream",
     "text": [
      "[4, 9, 11, 12, 14]\n"
     ]
    }
   ],
   "source": [
    "x = [(3,6),(4,7),(5,9),(8,4),(3,1)]\n",
    "sum_ofpairs_sorted=[]\n",
    "for i in x:\n",
    "           sum_ofpairs_sorted.append(i[0]+i[1])\n",
    "sum_ofpairs_sorted.sort()\n",
    "print (sum_ofpairs_sorted)"
   ]
  },
  {
   "cell_type": "markdown",
   "id": "be5b7018",
   "metadata": {},
   "source": [
    "# 6. Create a function that takes a list of numbers. Return the largest number in the list. - 0.5 балла"
   ]
  },
  {
   "cell_type": "code",
   "execution_count": 83,
   "id": "2ddbc7bf",
   "metadata": {},
   "outputs": [
    {
     "data": {
      "text/plain": [
       "600"
      ]
     },
     "execution_count": 83,
     "metadata": {},
     "output_type": "execute_result"
    }
   ],
   "source": [
    "#findLargestNum([4, 5, 1, 3]) ➞ 5\n",
    "\n",
    "#findLargestNum([300, 200, 600, 150]) ➞ 600\n",
    "\n",
    "#findLargestNum([1000, 1001, 857, 1]) ➞ 1001\n",
    "def findLargestNum(*args):\n",
    "    findLargestNum=0\n",
    "    for num in args:\n",
    "        \n",
    "        findLargestNum=max(num)\n",
    "    return findLargestNum\n",
    "findLargestNum([300, 200, 600, 150])"
   ]
  },
  {
   "cell_type": "markdown",
   "id": "17918763",
   "metadata": {},
   "source": [
    "# 7. Create a function that takes a string and returns the concatenated first and last character. - 0.5 балла"
   ]
  },
  {
   "cell_type": "code",
   "execution_count": null,
   "id": "7062bfdb",
   "metadata": {},
   "outputs": [],
   "source": [
    "\n"
   ]
  },
  {
   "cell_type": "code",
   "execution_count": 43,
   "id": "b196309a",
   "metadata": {},
   "outputs": [
    {
     "data": {
      "text/plain": [
       "'ababab'"
      ]
     },
     "execution_count": 43,
     "metadata": {},
     "output_type": "execute_result"
    }
   ],
   "source": [
    "#repetition(\"ab\", 3) ➞ \"ababab\"\n",
    "\n",
    "#repetition(\"kiwi\", 1) ➞ \"kiwi\"\n",
    "\n",
    "#repetition(\"cherry\", 2) ➞ \"cherrycherry\"\n",
    "\n",
    "def repetition(stringg, num):\n",
    "    return (stringg*num)\n",
    "repetition(\"ab\", 3)"
   ]
  },
  {
   "cell_type": "markdown",
   "id": "5c2fe48a",
   "metadata": {},
   "source": [
    "# 8. Create a function that takes a 2D list lst returns the sum of the minimum value in each row. - 0.5 балла"
   ]
  },
  {
   "cell_type": "code",
   "execution_count": 185,
   "id": "c3232abb",
   "metadata": {},
   "outputs": [
    {
     "name": "stdout",
     "output_type": "stream",
     "text": [
      "1 2 3 4 5 1\n",
      "5 6 7 8 9 5\n",
      "20 21 34 56 100 20\n"
     ]
    },
    {
     "data": {
      "text/plain": [
       "26"
      ]
     },
     "execution_count": 185,
     "metadata": {},
     "output_type": "execute_result"
    }
   ],
   "source": [
    "elems=[[1, 2, 3, 4, 5],  [5, 6, 7, 8, 9], [20, 21, 34, 56, 100]]\n",
    "       #➞ 26\n",
    "\n",
    "# minimum value of the first row is 1\n",
    "# minimum value of the second row is 5\n",
    "# minimum value of the third row is 20  \n",
    "\n",
    "def sum_minimums(lst):\n",
    "    sum_minimums=0\n",
    "    for inner_list in lst:\n",
    "            for elem in inner_list: \n",
    "                print (elem,end=\" \")\n",
    "            print (min(inner_list))\n",
    "            sum_minimums+=min(inner_list)\n",
    "    return sum_minimums\n",
    "   \n",
    "sum_minimums(elems)   "
   ]
  },
  {
   "cell_type": "markdown",
   "id": "88c6709f",
   "metadata": {},
   "source": [
    "# 9. Create a function to return the amount of potatoes there are in a string. - 0.5 балла"
   ]
  },
  {
   "cell_type": "code",
   "execution_count": null,
   "id": "e2610cbd",
   "metadata": {},
   "outputs": [],
   "source": [
    "potatoes(\"potato\") ➞ 1\n",
    "\n",
    "potatoes(\"potatopotato\") ➞ 2\n",
    "\n",
    "potatoes(\"potatoapple\") ➞ 1"
   ]
  },
  {
   "cell_type": "code",
   "execution_count": 86,
   "id": "2aaaeadb",
   "metadata": {},
   "outputs": [
    {
     "data": {
      "text/plain": [
       "2"
      ]
     },
     "execution_count": 86,
     "metadata": {},
     "output_type": "execute_result"
    }
   ],
   "source": [
    "def potatoes(potato):\n",
    "    return potato.count('potato')\n",
    "potatoes(\"potatopotato\")"
   ]
  },
  {
   "cell_type": "markdown",
   "id": "7fb5aa44",
   "metadata": {},
   "source": [
    "# 10. Create a function that takes a list of integers as an argument and returns a unique number from that list. All numbers except unique ones have the same number of occurrences in the list. - 0.5 балла"
   ]
  },
  {
   "cell_type": "code",
   "execution_count": 235,
   "id": "a43f80e0",
   "metadata": {},
   "outputs": [
    {
     "data": {
      "text/plain": [
       "'None'"
      ]
     },
     "execution_count": 235,
     "metadata": {},
     "output_type": "execute_result"
    }
   ],
   "source": [
    "#find_single_number([2, 2, 2, 3, 4, 4, 4]) ➞ 3\n",
    "\n",
    "#find_single_number([2]) ➞ 2\n",
    "\n",
    "#find_single_number([]) ➞ None\n",
    "\n",
    "#find_single_number([7, 13, 3, 6, 5, 4, 4, 13, 5, 3, 6, 7, 6, 5, 3, 13, 4, 7, 13, 5, 7, 4, 3, 6, 8, 4, 3, 7, 5, 6, 13]) ➞ 8\n",
    "\n",
    "#find_single_number([1, 2, 3, 6, 5, 4, 4, 2, 5, 3, 6, 1, 6, 5, 3, 2, 4, 1, 2, 5, 1, 4, 3, 6, 101, 4, 3, 1, 5, 6, 2]) ➞ 101\n",
    "\n",
    "def find_single_number(list):\n",
    "      if not list:\n",
    "        return 'None'\n",
    "      else:\n",
    "        counter={}\n",
    "        for elem in list:\n",
    "            counter[elem]=counter.get(elem,0)+1\n",
    "            find_single_number=({count for elem, count in counter.items() if count==1})\n",
    "        return find_single_number\n",
    "\n",
    "find_single_number([])"
   ]
  },
  {
   "cell_type": "markdown",
   "id": "0313ea52",
   "metadata": {},
   "source": [
    "# 11. Given a letter and a list of words, return whether the letter does not appear in any of the words. - 0.5 балла"
   ]
  },
  {
   "cell_type": "code",
   "execution_count": 114,
   "id": "0cb649a5",
   "metadata": {},
   "outputs": [
    {
     "data": {
      "text/plain": [
       "False"
      ]
     },
     "execution_count": 114,
     "metadata": {},
     "output_type": "execute_result"
    }
   ],
   "source": [
    "#forbidden_letter(\"r\", [\"rock\", \"paper\", \"scissors\"]) ➞ False\n",
    "\n",
    "#forbidden_letter(\"a\", [\"spoon\", \"fork\", \"knife\"]) ➞ True\n",
    "\n",
    "#forbidden_letter(\"m\", []) ➞ True\n",
    "\n",
    "#def forbidden_letter(letter,list):\n",
    "\n",
    "def forbidden_letter(fl,lst):\n",
    "    g_letters=[]\n",
    "    gg_letters=[]    \n",
    "    for elem in lst:\n",
    "               g_letters.append([*elem])\n",
    "    for elem1 in g_letters:        \n",
    "        gg_letters=gg_letters+elem1\n",
    "        \n",
    "    exist_count = gg_letters.count(fl)\n",
    "    if not lst:\n",
    "        forbidden_letter=True\n",
    "    elif exist_count > 0:\n",
    "        forbidden_letter=True\n",
    "    else:\n",
    "        forbidden_letter=False\n",
    "    return forbidden_letter\n",
    "\n",
    "forbidden_letter(\"a\", [\"spoon\", \"fork\", \"knife\"])"
   ]
  },
  {
   "cell_type": "markdown",
   "id": "0a7ef5b5",
   "metadata": {},
   "source": [
    "# 12.  Define a function which create a Pattern like this one.  - 2 балла"
   ]
  },
  {
   "cell_type": "code",
   "execution_count": null,
   "id": "7617ebb7",
   "metadata": {},
   "outputs": [],
   "source": [
    "Input: 4\n",
    "Pattern:\n",
    "\n",
    " 01234\n",
    "  | |     0\n",
    " -----    1\n",
    "  | |     2\n",
    " -----    3\n",
    "  | |     4"
   ]
  },
  {
   "cell_type": "code",
   "execution_count": 2,
   "id": "5d3b0cdd",
   "metadata": {},
   "outputs": [
    {
     "name": "stdout",
     "output_type": "stream",
     "text": [
      "4\n",
      " | |\n",
      "-----\n",
      " | |\n",
      "-----\n",
      " | |\n"
     ]
    }
   ],
   "source": [
    "x = int(input())\n",
    "for i in range(x + 1):\n",
    "    if i % 2 == 0:\n",
    "        print(' |'*(x//2), end = '\\n')\n",
    "    for j in range(x + 1):\n",
    "        if i % 2 != 0:\n",
    "            print('-'*(x+1), end = '\\n')\n",
    "            break"
   ]
  },
  {
   "cell_type": "markdown",
   "id": "0d5edcd1",
   "metadata": {},
   "source": [
    "# 13. Create a function that takes three numbers as arguments and returns True if it's a triangle and False if not.  - 0.5 балла"
   ]
  },
  {
   "cell_type": "code",
   "execution_count": 7,
   "id": "d867302c",
   "metadata": {},
   "outputs": [
    {
     "ename": "SyntaxError",
     "evalue": "invalid character '➞' (U+279E) (3318896787.py, line 1)",
     "output_type": "error",
     "traceback": [
      "\u001b[1;36m  Input \u001b[1;32mIn [7]\u001b[1;36m\u001b[0m\n\u001b[1;33m    is_triangle(2, 3, 4) ➞ True\u001b[0m\n\u001b[1;37m                         ^\u001b[0m\n\u001b[1;31mSyntaxError\u001b[0m\u001b[1;31m:\u001b[0m invalid character '➞' (U+279E)\n"
     ]
    }
   ],
   "source": [
    "is_triangle(2, 3, 4) ➞ True\n",
    "\n",
    "is_triangle(3, 4, 5) ➞ True\n",
    "\n",
    "is_triangle(4, 3, 8) ➞ False"
   ]
  },
  {
   "cell_type": "code",
   "execution_count": 119,
   "id": "6b78c704",
   "metadata": {},
   "outputs": [
    {
     "data": {
      "text/plain": [
       "False"
      ]
     },
     "execution_count": 119,
     "metadata": {},
     "output_type": "execute_result"
    }
   ],
   "source": [
    "def triangle(a,b,f):\n",
    "    if a + b > f and a + f > b and f + b > a:\n",
    "        return True\n",
    "    else:\n",
    "        return False\n",
    "triangle(3,4,8)"
   ]
  },
  {
   "cell_type": "code",
   "execution_count": 115,
   "id": "f06d6d95",
   "metadata": {},
   "outputs": [
    {
     "name": "stdout",
     "output_type": "stream",
     "text": [
      "3\n",
      "4\n",
      "7\n",
      "False\n"
     ]
    }
   ],
   "source": [
    "a, b, c = int(input()), int(input()), int(input())\n",
    "if a + b < c and a + c < b and c + b < a:\n",
    "    print(True)\n",
    "else:\n",
    "    print(False)"
   ]
  },
  {
   "cell_type": "markdown",
   "id": "2bdfb66e",
   "metadata": {},
   "source": [
    "# 14. Create a \"Code\" Generator that takes text as input and replaces some letter with another letter, and outputs the \"encoded\" message. Create funcs to encode and decode messages"
   ]
  },
  {
   "cell_type": "code",
   "execution_count": null,
   "id": "0caf2b35",
   "metadata": {},
   "outputs": [],
   "source": [
    "replacement = {\"a\": \"b\", \"d\": \"1\" ......}"
   ]
  },
  {
   "cell_type": "code",
   "execution_count": null,
   "id": "2889bcc6",
   "metadata": {},
   "outputs": [],
   "source": [
    "a = int(input())\n",
    "s = input()\n",
    "for c in s:\n",
    "    if ord(c)-a < 97:\n",
    "        print(chr(ord(c) - a + 26), end = '')\n",
    "    else:\n",
    "        print(chr(ord(c) - a), end = '')\n"
   ]
  }
 ],
 "metadata": {
  "kernelspec": {
   "display_name": "Python 3 (ipykernel)",
   "language": "python",
   "name": "python3"
  },
  "language_info": {
   "codemirror_mode": {
    "name": "ipython",
    "version": 3
   },
   "file_extension": ".py",
   "mimetype": "text/x-python",
   "name": "python",
   "nbconvert_exporter": "python",
   "pygments_lexer": "ipython3",
   "version": "3.9.12"
  }
 },
 "nbformat": 4,
 "nbformat_minor": 5
}
